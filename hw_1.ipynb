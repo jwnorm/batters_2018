{
 "cells": [
  {
   "cell_type": "markdown",
   "metadata": {},
   "source": [
    "# Homework 1: General Python, IPython, and NumPy\n",
    "**Created by:**&emsp;**Jacob Norman**  \n",
    "**Date:**&emsp;&emsp;&emsp;&nbsp;&nbsp;&nbsp;&nbsp;**1/28/2019**\n",
    "## Overview\n",
    "This homework assigment covers content from Jake Vanderplaas' texts *A Whirlwind Tour of Python* and chapters 1 and 2 of *Python Data Science Handbook*. This includes general Python lessons, IPython, and NumPy. Considering that general Python and IPython are baked into NumPy data manipulation, this homework will focus more heavily on NumPy. I realize that most of these operations would be easier with Pandas, but I am testing my knowledge of NumPy here.\n",
    "## General Python and IPython\n",
    "The first part of my learning in Python includes general Python syntax, rules, and tips. It was a refresher of things learned in PCDA. This was done through reading Jake Vanderplaas' *A Whirlwind Tour of Python*. Most of the things touched on I already had a basic grasp of, such as the fact that Python uses zero-based indexing. Many of Python's basic functions I already knew how to use as well. I knew that Python was a dynamically-typed language, but I did not know what the underlying reasoning for this was. I never realized that variables in Python were more akin to pointers than buckets. I was shocked to realize that if you have two variables pointing to the same mutable object, if you change one of the pointers than the other is changed as well.  \n",
    "\n",
    "Other things I remember touching on in class but definitely needed some help on were list comprehensions and lambda functions. Specifically, lambda functions used with ``map`` seem like a very powerful operation that can be performed on iterators. As far as IPython goes, most of the useful things I learned dealt with debugging or optimizing code for efficiency. Keybard shortcuts are useful as well. My favorite new thing I learned was the ``%time`` and ``timeit`` magic commands. We will use these shortly."
   ]
  },
  {
   "cell_type": "code",
   "execution_count": 17,
   "metadata": {},
   "outputs": [
    {
     "data": {
      "text/html": [
       "<div>\n",
       "<style>\n",
       "    .dataframe thead tr:only-child th {\n",
       "        text-align: right;\n",
       "    }\n",
       "\n",
       "    .dataframe thead th {\n",
       "        text-align: left;\n",
       "    }\n",
       "\n",
       "    .dataframe tbody tr th {\n",
       "        vertical-align: top;\n",
       "    }\n",
       "</style>\n",
       "<table border=\"1\" class=\"dataframe\">\n",
       "  <thead>\n",
       "    <tr style=\"text-align: right;\">\n",
       "      <th></th>\n",
       "      <th>Rk</th>\n",
       "      <th>Name</th>\n",
       "      <th>Age</th>\n",
       "      <th>Tm</th>\n",
       "      <th>Lg</th>\n",
       "      <th>G</th>\n",
       "      <th>PA</th>\n",
       "      <th>AB</th>\n",
       "      <th>R</th>\n",
       "      <th>H</th>\n",
       "      <th>...</th>\n",
       "      <th>SLG</th>\n",
       "      <th>OPS</th>\n",
       "      <th>OPS+</th>\n",
       "      <th>TB</th>\n",
       "      <th>GDP</th>\n",
       "      <th>HBP</th>\n",
       "      <th>SH</th>\n",
       "      <th>SF</th>\n",
       "      <th>IBB</th>\n",
       "      <th>Pos Summary</th>\n",
       "    </tr>\n",
       "  </thead>\n",
       "  <tbody>\n",
       "    <tr>\n",
       "      <th>0</th>\n",
       "      <td>1</td>\n",
       "      <td>Jose Abreu\\abreujo02</td>\n",
       "      <td>31</td>\n",
       "      <td>CHW</td>\n",
       "      <td>AL</td>\n",
       "      <td>128</td>\n",
       "      <td>553</td>\n",
       "      <td>499</td>\n",
       "      <td>68</td>\n",
       "      <td>132</td>\n",
       "      <td>...</td>\n",
       "      <td>0.473</td>\n",
       "      <td>0.798</td>\n",
       "      <td>118.0</td>\n",
       "      <td>236</td>\n",
       "      <td>14</td>\n",
       "      <td>11</td>\n",
       "      <td>0</td>\n",
       "      <td>6</td>\n",
       "      <td>7</td>\n",
       "      <td>*3D</td>\n",
       "    </tr>\n",
       "    <tr>\n",
       "      <th>1</th>\n",
       "      <td>2</td>\n",
       "      <td>Ronald Acuna\\acunaro01</td>\n",
       "      <td>20</td>\n",
       "      <td>ATL</td>\n",
       "      <td>NL</td>\n",
       "      <td>111</td>\n",
       "      <td>487</td>\n",
       "      <td>433</td>\n",
       "      <td>78</td>\n",
       "      <td>127</td>\n",
       "      <td>...</td>\n",
       "      <td>0.552</td>\n",
       "      <td>0.917</td>\n",
       "      <td>144.0</td>\n",
       "      <td>239</td>\n",
       "      <td>4</td>\n",
       "      <td>6</td>\n",
       "      <td>0</td>\n",
       "      <td>3</td>\n",
       "      <td>2</td>\n",
       "      <td>78/9D</td>\n",
       "    </tr>\n",
       "    <tr>\n",
       "      <th>2</th>\n",
       "      <td>3</td>\n",
       "      <td>Jason Adam\\adamja01</td>\n",
       "      <td>26</td>\n",
       "      <td>KCR</td>\n",
       "      <td>AL</td>\n",
       "      <td>1</td>\n",
       "      <td>0</td>\n",
       "      <td>0</td>\n",
       "      <td>0</td>\n",
       "      <td>0</td>\n",
       "      <td>...</td>\n",
       "      <td>NaN</td>\n",
       "      <td>NaN</td>\n",
       "      <td>NaN</td>\n",
       "      <td>0</td>\n",
       "      <td>0</td>\n",
       "      <td>0</td>\n",
       "      <td>0</td>\n",
       "      <td>0</td>\n",
       "      <td>0</td>\n",
       "      <td>1</td>\n",
       "    </tr>\n",
       "    <tr>\n",
       "      <th>3</th>\n",
       "      <td>4</td>\n",
       "      <td>Willy Adames\\adamewi01</td>\n",
       "      <td>22</td>\n",
       "      <td>TBR</td>\n",
       "      <td>AL</td>\n",
       "      <td>85</td>\n",
       "      <td>323</td>\n",
       "      <td>288</td>\n",
       "      <td>43</td>\n",
       "      <td>80</td>\n",
       "      <td>...</td>\n",
       "      <td>0.406</td>\n",
       "      <td>0.754</td>\n",
       "      <td>109.0</td>\n",
       "      <td>117</td>\n",
       "      <td>6</td>\n",
       "      <td>1</td>\n",
       "      <td>1</td>\n",
       "      <td>2</td>\n",
       "      <td>3</td>\n",
       "      <td>64</td>\n",
       "    </tr>\n",
       "    <tr>\n",
       "      <th>4</th>\n",
       "      <td>5</td>\n",
       "      <td>Austin L. Adams\\adamsau02</td>\n",
       "      <td>27</td>\n",
       "      <td>WSN</td>\n",
       "      <td>NL</td>\n",
       "      <td>2</td>\n",
       "      <td>0</td>\n",
       "      <td>0</td>\n",
       "      <td>0</td>\n",
       "      <td>0</td>\n",
       "      <td>...</td>\n",
       "      <td>NaN</td>\n",
       "      <td>NaN</td>\n",
       "      <td>NaN</td>\n",
       "      <td>0</td>\n",
       "      <td>0</td>\n",
       "      <td>0</td>\n",
       "      <td>0</td>\n",
       "      <td>0</td>\n",
       "      <td>0</td>\n",
       "      <td>/1</td>\n",
       "    </tr>\n",
       "    <tr>\n",
       "      <th>5</th>\n",
       "      <td>6</td>\n",
       "      <td>Chance Adams\\adamsch01</td>\n",
       "      <td>23</td>\n",
       "      <td>NYY</td>\n",
       "      <td>AL</td>\n",
       "      <td>1</td>\n",
       "      <td>0</td>\n",
       "      <td>0</td>\n",
       "      <td>0</td>\n",
       "      <td>0</td>\n",
       "      <td>...</td>\n",
       "      <td>NaN</td>\n",
       "      <td>NaN</td>\n",
       "      <td>NaN</td>\n",
       "      <td>0</td>\n",
       "      <td>0</td>\n",
       "      <td>0</td>\n",
       "      <td>0</td>\n",
       "      <td>0</td>\n",
       "      <td>0</td>\n",
       "      <td>/1</td>\n",
       "    </tr>\n",
       "    <tr>\n",
       "      <th>6</th>\n",
       "      <td>7</td>\n",
       "      <td>Lane Adams\\adamsla01</td>\n",
       "      <td>28</td>\n",
       "      <td>ATL</td>\n",
       "      <td>NL</td>\n",
       "      <td>26</td>\n",
       "      <td>29</td>\n",
       "      <td>25</td>\n",
       "      <td>10</td>\n",
       "      <td>6</td>\n",
       "      <td>...</td>\n",
       "      <td>0.520</td>\n",
       "      <td>0.865</td>\n",
       "      <td>130.0</td>\n",
       "      <td>13</td>\n",
       "      <td>1</td>\n",
       "      <td>0</td>\n",
       "      <td>0</td>\n",
       "      <td>0</td>\n",
       "      <td>0</td>\n",
       "      <td>/987</td>\n",
       "    </tr>\n",
       "    <tr>\n",
       "      <th>7</th>\n",
       "      <td>8</td>\n",
       "      <td>Matt Adams*\\adamsma01</td>\n",
       "      <td>29</td>\n",
       "      <td>TOT</td>\n",
       "      <td>NL</td>\n",
       "      <td>121</td>\n",
       "      <td>337</td>\n",
       "      <td>306</td>\n",
       "      <td>42</td>\n",
       "      <td>73</td>\n",
       "      <td>...</td>\n",
       "      <td>0.477</td>\n",
       "      <td>0.786</td>\n",
       "      <td>105.0</td>\n",
       "      <td>146</td>\n",
       "      <td>6</td>\n",
       "      <td>4</td>\n",
       "      <td>0</td>\n",
       "      <td>0</td>\n",
       "      <td>3</td>\n",
       "      <td>37/D9</td>\n",
       "    </tr>\n",
       "    <tr>\n",
       "      <th>8</th>\n",
       "      <td>9</td>\n",
       "      <td>Matt Adams*\\adamsma01</td>\n",
       "      <td>29</td>\n",
       "      <td>WSN</td>\n",
       "      <td>NL</td>\n",
       "      <td>94</td>\n",
       "      <td>277</td>\n",
       "      <td>249</td>\n",
       "      <td>37</td>\n",
       "      <td>64</td>\n",
       "      <td>...</td>\n",
       "      <td>0.510</td>\n",
       "      <td>0.842</td>\n",
       "      <td>118.0</td>\n",
       "      <td>127</td>\n",
       "      <td>6</td>\n",
       "      <td>4</td>\n",
       "      <td>0</td>\n",
       "      <td>0</td>\n",
       "      <td>2</td>\n",
       "      <td>37/D9</td>\n",
       "    </tr>\n",
       "    <tr>\n",
       "      <th>9</th>\n",
       "      <td>10</td>\n",
       "      <td>Matt Adams*\\adamsma01</td>\n",
       "      <td>29</td>\n",
       "      <td>STL</td>\n",
       "      <td>NL</td>\n",
       "      <td>27</td>\n",
       "      <td>60</td>\n",
       "      <td>57</td>\n",
       "      <td>5</td>\n",
       "      <td>9</td>\n",
       "      <td>...</td>\n",
       "      <td>0.333</td>\n",
       "      <td>0.533</td>\n",
       "      <td>43.0</td>\n",
       "      <td>19</td>\n",
       "      <td>0</td>\n",
       "      <td>0</td>\n",
       "      <td>0</td>\n",
       "      <td>0</td>\n",
       "      <td>1</td>\n",
       "      <td>3</td>\n",
       "    </tr>\n",
       "  </tbody>\n",
       "</table>\n",
       "<p>10 rows × 30 columns</p>\n",
       "</div>"
      ],
      "text/plain": [
       "   Rk                       Name  Age   Tm  Lg    G   PA   AB   R    H  \\\n",
       "0   1       Jose Abreu\\abreujo02   31  CHW  AL  128  553  499  68  132   \n",
       "1   2     Ronald Acuna\\acunaro01   20  ATL  NL  111  487  433  78  127   \n",
       "2   3        Jason Adam\\adamja01   26  KCR  AL    1    0    0   0    0   \n",
       "3   4     Willy Adames\\adamewi01   22  TBR  AL   85  323  288  43   80   \n",
       "4   5  Austin L. Adams\\adamsau02   27  WSN  NL    2    0    0   0    0   \n",
       "5   6     Chance Adams\\adamsch01   23  NYY  AL    1    0    0   0    0   \n",
       "6   7       Lane Adams\\adamsla01   28  ATL  NL   26   29   25  10    6   \n",
       "7   8      Matt Adams*\\adamsma01   29  TOT  NL  121  337  306  42   73   \n",
       "8   9      Matt Adams*\\adamsma01   29  WSN  NL   94  277  249  37   64   \n",
       "9  10      Matt Adams*\\adamsma01   29  STL  NL   27   60   57   5    9   \n",
       "\n",
       "      ...         SLG    OPS   OPS+   TB  GDP  HBP  SH  SF  IBB  Pos Summary  \n",
       "0     ...       0.473  0.798  118.0  236   14   11   0   6    7          *3D  \n",
       "1     ...       0.552  0.917  144.0  239    4    6   0   3    2        78/9D  \n",
       "2     ...         NaN    NaN    NaN    0    0    0   0   0    0            1  \n",
       "3     ...       0.406  0.754  109.0  117    6    1   1   2    3           64  \n",
       "4     ...         NaN    NaN    NaN    0    0    0   0   0    0           /1  \n",
       "5     ...         NaN    NaN    NaN    0    0    0   0   0    0           /1  \n",
       "6     ...       0.520  0.865  130.0   13    1    0   0   0    0         /987  \n",
       "7     ...       0.477  0.786  105.0  146    6    4   0   0    3        37/D9  \n",
       "8     ...       0.510  0.842  118.0  127    6    4   0   0    2        37/D9  \n",
       "9     ...       0.333  0.533   43.0   19    0    0   0   0    1            3  \n",
       "\n",
       "[10 rows x 30 columns]"
      ]
     },
     "execution_count": 17,
     "metadata": {},
     "output_type": "execute_result"
    }
   ],
   "source": [
    "# Import necessary libraries and create a dataframe\n",
    "import numpy as np\n",
    "import pandas as pd\n",
    "batters = pd.read_csv('data/mlb_batting_2018.csv')\n",
    "batters.head(10)"
   ]
  },
  {
   "cell_type": "markdown",
   "metadata": {},
   "source": [
    "The above dataframe is a complete list of standard batting statistics for every player in the 2018 MLB season. This list includes multiple entries if the player played on multiple teams during the course of the season. Since we are only interested in NumPy arrays and Python lists, were are going to ignore the obvious text cleanup in the *Name* column. Additionally, we are going to ignore the multiple entires for certain players, as that is more of a Pandas data wrangling issue.  \n",
    "\n",
    "We are going to create a Python list of just home runs and perform a variety of operations on the list."
   ]
  },
  {
   "cell_type": "code",
   "execution_count": 29,
   "metadata": {},
   "outputs": [
    {
     "data": {
      "text/plain": [
       "[22, 26, 0, 10, 0, 0, 2, 21, 18, 3]"
      ]
     },
     "execution_count": 29,
     "metadata": {},
     "output_type": "execute_result"
    }
   ],
   "source": [
    "# Create a list of home runs\n",
    "hr = batters.HR.tolist()\n",
    "hr[:10]"
   ]
  },
  {
   "cell_type": "markdown",
   "metadata": {},
   "source": [
    "Let's start with some basic summary statistics, usuing Python operations only."
   ]
  },
  {
   "cell_type": "code",
   "execution_count": 71,
   "metadata": {},
   "outputs": [
    {
     "name": "stdout",
     "output_type": "stream",
     "text": [
      "Mean home runs:\t 4.001951854261549\n",
      "Std home runs:\t 7.564642014811744\n",
      "Min home runs:\t 0\n",
      "Max home runs:\t 48\n"
     ]
    }
   ],
   "source": [
    "# Summary stats\n",
    "avg = sum(hr) / len(hr)\n",
    "std_dev = 0\n",
    "diffsquared = 0\n",
    "sum_diffsquared = 0\n",
    "for val in hr:\n",
    "  diffsquared = (val-avg)**2\n",
    "  sum_diffsquared = diffsquared + sum_diffsquared\n",
    "std_dev = ((sum_diffsquared)/len(hr))**(1/2)\n",
    "\n",
    "print('Mean home runs:\\t', avg)\n",
    "print('Std home runs:\\t', std_dev)\n",
    "print('Min home runs:\\t', min(hr))\n",
    "print('Max home runs:\\t', max(hr))"
   ]
  },
  {
   "cell_type": "markdown",
   "metadata": {},
   "source": [
    "**Note:** *Can you explain why ``diffsquared`` is red? I cannot figure out why.*\n",
    "\n",
    "Now let's compute the average number of home runs per game for each player. We'll use 162 even though  each player's actual games played varies from the 162-game season. In the interest of space, we will only do the calculations on the first 50 players. This is a good opportunity to test out a lambda function in conjuction with ``map``."
   ]
  },
  {
   "cell_type": "code",
   "execution_count": 90,
   "metadata": {},
   "outputs": [
    {
     "data": {
      "text/plain": [
       "[0.13580246913580246,\n",
       " 0.16049382716049382,\n",
       " 0.0,\n",
       " 0.06172839506172839,\n",
       " 0.0,\n",
       " 0.0,\n",
       " 0.012345679012345678,\n",
       " 0.12962962962962962,\n",
       " 0.1111111111111111,\n",
       " 0.018518518518518517,\n",
       " 0.018518518518518517,\n",
       " 0.037037037037037035,\n",
       " 0.21604938271604937,\n",
       " 0.09876543209876543,\n",
       " 0.0,\n",
       " 0.0,\n",
       " 0.14814814814814814,\n",
       " 0.0,\n",
       " 0.0,\n",
       " 0.0,\n",
       " 0.06172839506172839,\n",
       " 0.0,\n",
       " 0.0,\n",
       " 0.0,\n",
       " 0.012345679012345678,\n",
       " 0.018518518518518517,\n",
       " 0.0,\n",
       " 0.030864197530864196,\n",
       " 0.1419753086419753,\n",
       " 0.04938271604938271,\n",
       " 0.08024691358024691,\n",
       " 0.0,\n",
       " 0.0,\n",
       " 0.04938271604938271,\n",
       " 0.0,\n",
       " 0.06790123456790123,\n",
       " 0.0,\n",
       " 0.0,\n",
       " 0.0,\n",
       " 0.0,\n",
       " 0.12345679012345678,\n",
       " 0.0,\n",
       " 0.0,\n",
       " 0.0,\n",
       " 0.0,\n",
       " 0.0,\n",
       " 0.0,\n",
       " 0.0,\n",
       " 0.037037037037037035,\n",
       " 0.16666666666666666]"
      ]
     },
     "execution_count": 90,
     "metadata": {},
     "output_type": "execute_result"
    }
   ],
   "source": [
    "# Home runs per game, first 50 players\n",
    "hr_game_func = lambda x: x / 162\n",
    "hr_game = []\n",
    "for val in map(hr_game_func, hr[:50]):\n",
    "    hr_game.append(val)\n",
    "hr_game"
   ]
  },
  {
   "cell_type": "markdown",
   "metadata": {},
   "source": [
    "Could this also be done with a list comprehension? Possibly faster? Lets try it, this time computing for all players."
   ]
  },
  {
   "cell_type": "code",
   "execution_count": 87,
   "metadata": {},
   "outputs": [
    {
     "data": {
      "text/plain": [
       "[0.13580246913580246,\n",
       " 0.16049382716049382,\n",
       " 0.0,\n",
       " 0.06172839506172839,\n",
       " 0.0,\n",
       " 0.0,\n",
       " 0.012345679012345678,\n",
       " 0.12962962962962962,\n",
       " 0.1111111111111111,\n",
       " 0.018518518518518517,\n",
       " 0.018518518518518517,\n",
       " 0.037037037037037035,\n",
       " 0.21604938271604937,\n",
       " 0.09876543209876543,\n",
       " 0.0,\n",
       " 0.0,\n",
       " 0.14814814814814814,\n",
       " 0.0,\n",
       " 0.0,\n",
       " 0.0,\n",
       " 0.06172839506172839,\n",
       " 0.0,\n",
       " 0.0,\n",
       " 0.0,\n",
       " 0.012345679012345678,\n",
       " 0.018518518518518517,\n",
       " 0.0,\n",
       " 0.030864197530864196,\n",
       " 0.1419753086419753,\n",
       " 0.04938271604938271,\n",
       " 0.08024691358024691,\n",
       " 0.0,\n",
       " 0.0,\n",
       " 0.04938271604938271,\n",
       " 0.0,\n",
       " 0.06790123456790123,\n",
       " 0.0,\n",
       " 0.0,\n",
       " 0.0,\n",
       " 0.0,\n",
       " 0.12345679012345678,\n",
       " 0.0,\n",
       " 0.0,\n",
       " 0.0,\n",
       " 0.0,\n",
       " 0.0,\n",
       " 0.0,\n",
       " 0.0,\n",
       " 0.037037037037037035,\n",
       " 0.16666666666666666]"
      ]
     },
     "execution_count": 87,
     "metadata": {},
     "output_type": "execute_result"
    }
   ],
   "source": [
    "[i / 162 for i in hr[:50]]"
   ]
  },
  {
   "cell_type": "code",
   "execution_count": 95,
   "metadata": {},
   "outputs": [
    {
     "name": "stdout",
     "output_type": "stream",
     "text": [
      "1000 loops, best of 3: 320 µs per loop\n"
     ]
    }
   ],
   "source": [
    "%%timeit\n",
    "hr_game = []\n",
    "for val in map(hr_game_func, hr):\n",
    "    hr_game.append(val)"
   ]
  },
  {
   "cell_type": "code",
   "execution_count": 94,
   "metadata": {},
   "outputs": [
    {
     "name": "stdout",
     "output_type": "stream",
     "text": [
      "10000 loops, best of 3: 109 µs per loop\n"
     ]
    }
   ],
   "source": [
    "%timeit [i / 162 for i in hr]"
   ]
  },
  {
   "cell_type": "markdown",
   "metadata": {},
   "source": [
    "As shown above, the list comprehension is almost 3 times faster than the mapping lambda function loop. Additionally, the list comprehension was able to compute 10 times more loops then the lambda loop. The list comprehension is also much quicker and more intuitive to write. Therefore, I believe that is the more \"Pythonic\" way to approach this type of problem."
   ]
  },
  {
   "cell_type": "markdown",
   "metadata": {},
   "source": [
    "## NumPy\n",
    "What I remember about NumPy from PCDA is that the functions in the package were more important than dealing with NumPy arrays themselves. Pandas dataframes seem more suited to working with large data sets, while NumPy is more suited for single variable data. After all, Pandas is the natural extension of NumPy, and the two packages work hand in hand. For this reason, it is somewhat difficult to do an entire homework assignment using this package and without Pandas. We discussed this potential issue in our email correspondence. The rest of this assignemnt will deal primarily with NumPy, but also dabble in Pandas and MatPlotLib where appropriate.  \n",
    "\n",
    "That said, actually reading the section on NumPy in *Python Data Science Handbook* did offer me several revelations. NumPy arrays, unlike Python lists, can only contain one data type. Initally, I assumed this was a limit on NumPy, but after reading I realized it was a necessary restriction to the package. It makes computing operations and aggregates easier and faster. Python has its own fixed-type array package, ``array``, but NumPy is much more powerful, and therefore, more widely used. Addtionally, I did not know that NumPy offers structured arrays that function similarly to Pandas' dataframes. This functionality, which I will likely never use outside of this homework assignment, is useful to know. Also, NumPy vectorized operations makes loops even more obselete and reminded me of working in R.\n",
    "\n",
    "Overall, a review of NumPy helped solidify Python concepts, such as index slicing, that will benefit me moving forward. It was similar to working with Python lists with R logic. This section is a foundation for the next 3 chapters in *Python Data Science Handbook*."
   ]
  },
  {
   "cell_type": "code",
   "execution_count": 98,
   "metadata": {},
   "outputs": [
    {
     "data": {
      "text/plain": [
       "array([22, 26,  0, ...,  0,  9, 20])"
      ]
     },
     "execution_count": 98,
     "metadata": {},
     "output_type": "execute_result"
    }
   ],
   "source": [
    "#Convert hr list to NumPy array\n",
    "hr_array = np.array(hr)\n",
    "hr_array"
   ]
  },
  {
   "cell_type": "markdown",
   "metadata": {},
   "source": [
    "First, let's fix that mapping function to work on an array instead of a list. Now we can use the actual number of games played for each player. Let's compute the average number of home runs per game for each player."
   ]
  },
  {
   "cell_type": "code",
   "execution_count": 195,
   "metadata": {},
   "outputs": [
    {
     "name": "stdout",
     "output_type": "stream",
     "text": [
      "Average home runs per game: 0.0439\n"
     ]
    }
   ],
   "source": [
    "games = np.array(batters.G)\n",
    "hr_game_func2 = lambda x, y: x / y\n",
    "hr_game2 = []\n",
    "for val in map(hr_game_func2, hr_array, games):\n",
    "    hr_game2.append(val)\n",
    "hr_game2_array = np.array(hr_game2)\n",
    "print('Average home runs per game: {:.4f}'.format(hr_game2_array.mean()))"
   ]
  },
  {
   "cell_type": "markdown",
   "metadata": {},
   "source": [
    "Alternatively, this can be done even more simply using vectorized operations with NumPy."
   ]
  },
  {
   "cell_type": "code",
   "execution_count": 181,
   "metadata": {},
   "outputs": [
    {
     "name": "stdout",
     "output_type": "stream",
     "text": [
      "0.0439449178095\n"
     ]
    },
    {
     "data": {
      "text/plain": [
       "True"
      ]
     },
     "execution_count": 181,
     "metadata": {},
     "output_type": "execute_result"
    }
   ],
   "source": [
    "print((hr_array / games).mean())\n",
    "(hr_array / games).mean() == hr_game2_array.mean()"
   ]
  },
  {
   "cell_type": "markdown",
   "metadata": {},
   "source": [
    "Both calculations are equivalent, but I bet that the vectorized approach is significantly faster."
   ]
  },
  {
   "cell_type": "code",
   "execution_count": 182,
   "metadata": {},
   "outputs": [
    {
     "name": "stdout",
     "output_type": "stream",
     "text": [
      "The slowest run took 1601.48 times longer than the fastest. This could mean that an intermediate result is being cached.\n",
      "10000 loops, best of 3: 14.5 µs per loop\n"
     ]
    }
   ],
   "source": [
    "%timeit (hr_array / games).mean()"
   ]
  },
  {
   "cell_type": "code",
   "execution_count": 183,
   "metadata": {},
   "outputs": [
    {
     "name": "stdout",
     "output_type": "stream",
     "text": [
      "100 loops, best of 3: 4.12 ms per loop\n"
     ]
    }
   ],
   "source": [
    "%%timeit\n",
    "hr_game2 = []\n",
    "for val in map(hr_game_func2, hr_array, games):\n",
    "    hr_game2.append(val)\n",
    "hr_game2_array = np.array(hr_game2)\n",
    "hr_game2_array.mean()"
   ]
  },
  {
   "cell_type": "markdown",
   "metadata": {},
   "source": [
    "As predicted, the vectorized method is significantly faster. It did 100 more iterations and was almost 300 times faster.  \n",
    "\n",
    "Computing summary statistics with NumPy arrays is much easier than in base Python."
   ]
  },
  {
   "cell_type": "code",
   "execution_count": 99,
   "metadata": {},
   "outputs": [
    {
     "name": "stdout",
     "output_type": "stream",
     "text": [
      "Mean home runs 4.00195185426\n",
      "Std home runs: 7.56464201481\n",
      "Min home runs: 0\n",
      "Max home runs: 48\n"
     ]
    }
   ],
   "source": [
    "print('Mean home runs', hr_array.mean())\n",
    "print('Std home runs:', hr_array.std())\n",
    "print('Min home runs:', hr_array.min())\n",
    "print('Max home runs:', hr_array.max())"
   ]
  },
  {
   "cell_type": "markdown",
   "metadata": {},
   "source": [
    "These are the same numbers, computed with NumPy functions; no loops required. We can easily add more calculations as well."
   ]
  },
  {
   "cell_type": "code",
   "execution_count": 193,
   "metadata": {},
   "outputs": [
    {
     "name": "stdout",
     "output_type": "stream",
     "text": [
      "25th percentile home runs: 0.0\n",
      "Median home runs:\t   0.0\n",
      "75th percentile home runs: 4.0\n",
      "95th percentile home runs: 22.0\n",
      "99th percentile home runs: 34.0\n"
     ]
    }
   ],
   "source": [
    "print('25th percentile home runs:', np.percentile(hr_array,25))\n",
    "print('Median home runs:\\t  ', np.median(hr_array))\n",
    "print('75th percentile home runs:', np.percentile(hr_array,75))\n",
    "print('95th percentile home runs:', np.percentile(hr_array,95))\n",
    "print('99th percentile home runs:', np.percentile(hr_array,99))"
   ]
  },
  {
   "cell_type": "markdown",
   "metadata": {},
   "source": [
    "Notice the significant jump from the 75th percentile to the 95th percentile. This suggests, as is commonly known, that it is hard to hit a lot of dingers!  \n",
    "\n",
    "Using Pandas, summarizing the sample data becomes even quicker and easier."
   ]
  },
  {
   "cell_type": "code",
   "execution_count": 109,
   "metadata": {},
   "outputs": [
    {
     "data": {
      "text/plain": [
       "count    1537.000000\n",
       "mean        4.001952\n",
       "std         7.567104\n",
       "min         0.000000\n",
       "25%         0.000000\n",
       "50%         0.000000\n",
       "75%         4.000000\n",
       "max        48.000000\n",
       "Name: HR, dtype: float64"
      ]
     },
     "execution_count": 109,
     "metadata": {},
     "output_type": "execute_result"
    }
   ],
   "source": [
    "batters.HR.describe()"
   ]
  },
  {
   "cell_type": "markdown",
   "metadata": {},
   "source": [
    "Based on the summary statistics, the distribution of home runs looks like it will be skewed to the right. Let's check with a histogram."
   ]
  },
  {
   "cell_type": "code",
   "execution_count": 113,
   "metadata": {},
   "outputs": [],
   "source": [
    "# Import MatPlotLib\n",
    "%matplotlib inline\n",
    "import matplotlib.pyplot as plt\n",
    "# I like ggplot\n",
    "plt.style.use('ggplot')"
   ]
  },
  {
   "cell_type": "code",
   "execution_count": 123,
   "metadata": {},
   "outputs": [
    {
     "data": {
      "image/png": "[encoded data removed]",
      "text/plain": [
       "<matplotlib.figure.Figure at 0xaafebeac>"
      ]
     },
     "metadata": {},
     "output_type": "display_data"
    }
   ],
   "source": [
    "plt.hist(hr_array)\n",
    "plt.title('Home Run Distribution of MLB Players\\n2018 Season')\n",
    "plt.xlabel('number of home runs')\n",
    "plt.ylabel('count');"
   ]
  },
  {
   "cell_type": "markdown",
   "metadata": {},
   "source": [
    "Our suspicions are confirmed. The majority of players in the MLB have less than 10 home runs."
   ]
  },
  {
   "cell_type": "code",
   "execution_count": 141,
   "metadata": {},
   "outputs": [
    {
     "name": "stdout",
     "output_type": "stream",
     "text": [
      "Percent of players with less than 10 home runs in 2018: 83.86%\n"
     ]
    }
   ],
   "source": [
    "print('Percent of players with less than 10 home runs in 2018: {:.2f}%'.format(\n",
    "    (len(hr_array[hr_array < 10]) / len(hr_array)*100)))"
   ]
  },
  {
   "cell_type": "markdown",
   "metadata": {},
   "source": [
    "In fact, over 83% of all MLB players in 2018 had less than 10 home runs.  \n",
    "\n",
    "Now let's move on to multivariate structured arrays. We are essentially creating a dataframe in the structure of an array. This is a somewhat tedious process, especially considering we already have the dataframe handy. Also, the final product is very ugly to look at."
   ]
  },
  {
   "cell_type": "code",
   "execution_count": 172,
   "metadata": {},
   "outputs": [
    {
     "data": {
      "text/plain": [
       "'[(22,  0.473,  0.325,  0.798, 78, 7, 499, 132)\\n (26,  0.552,  0.366,  0.917, 64, 2, 433, 127)\\n ( 0,    nan,    nan,    nan,  0, 0,   0,   0) ...,\\n ( 0,  0.   ,  0.   ,  0.   ,  0, 0,   2,   0)\\n ( 9,  0.44 ,  0.378,  0.817, 58, 1, 455, 139)\\n (20,  0.41 ,  0.259,  0.669, 44, 0, 373,  75)]'"
      ]
     },
     "execution_count": 172,
     "metadata": {},
     "output_type": "execute_result"
    }
   ],
   "source": [
    "#Create lists of various batting statistics\n",
    "home_runs = batters.HR.tolist()\n",
    "slugging = batters.SLG.tolist()\n",
    "obp = batters.OBP.tolist()\n",
    "ops = batters.OPS.tolist()\n",
    "rbi = batters.RBI.tolist()\n",
    "ibb = batters.IBB.tolist()\n",
    "at_bats = batters.AB.tolist()\n",
    "hits = batters.H.tolist()\n",
    "\n",
    "# Create empty structured-array\n",
    "data = np.zeros(len(home_runs), dtype={'names':('home_runs', 'slugging', 'obp', 'ops', \n",
    "                                                'rbi', 'ibb', 'at_bats', 'hits'),\n",
    "                          'formats':('i4', 'f8', 'f8', 'f8', 'i4', 'i4', 'i4', 'i4')})\n",
    "\n",
    "#Map lists to array\n",
    "data['home_runs'] = home_runs\n",
    "data['slugging'] = slugging\n",
    "data['obp'] = obp\n",
    "data['ops'] = ops\n",
    "data['rbi'] = rbi\n",
    "data['ibb'] = ibb\n",
    "data['at_bats'] = at_bats\n",
    "data['hits'] = hits\n",
    "str(data)"
   ]
  },
  {
   "cell_type": "markdown",
   "metadata": {},
   "source": [
    "One thing that *Python Data Science Handbook* didn't touch on is how to plot structured arrays. Is there any special notation required? Let's try it out by checking if the data supplied is accurate. Specifically, if on-base percentage (OBP) plus slugging is equal to OPS."
   ]
  },
  {
   "cell_type": "code",
   "execution_count": 173,
   "metadata": {},
   "outputs": [
    {
     "data": {
      "image/png": "[encoded data removed]",
      "text/plain": [
       "<matplotlib.figure.Figure at 0xaafebb6c>"
      ]
     },
     "metadata": {},
     "output_type": "display_data"
    }
   ],
   "source": [
    "x = (data['obp'] + data['slugging'])\n",
    "y = data['ops']\n",
    "\n",
    "plt.scatter(x, y, alpha=0.5)\n",
    "plt.title('On Base Pct Plus Slugging')\n",
    "plt.xlabel('OBP + Slugging')\n",
    "plt.ylabel('OPS')\n",
    "plt.show();"
   ]
  },
  {
   "cell_type": "markdown",
   "metadata": {},
   "source": [
    "Hey, it works! The linear relationship suggests the data is accurate. Let's move on to some more interesting plots."
   ]
  },
  {
   "cell_type": "code",
   "execution_count": 175,
   "metadata": {},
   "outputs": [
    {
     "data": {
      "image/png": "[encoded data removed]",
      "text/plain": [
       "<matplotlib.figure.Figure at 0xab14e4cc>"
      ]
     },
     "metadata": {},
     "output_type": "display_data"
    }
   ],
   "source": [
    "x = data['at_bats']\n",
    "y = data['hits']\n",
    "\n",
    "plt.scatter(x, y, alpha=0.5)\n",
    "plt.title('Hits vs At Bats')\n",
    "plt.xlabel('At bats')\n",
    "plt.ylabel('Hits')\n",
    "\n",
    "plt.show();"
   ]
  },
  {
   "cell_type": "markdown",
   "metadata": {},
   "source": [
    "> Wow! A truly stunning revelation: the more chances a player has at the plate, the more hits they accumulate. On a serious note, this plot was more linear that I thought it would be."
   ]
  },
  {
   "cell_type": "code",
   "execution_count": 196,
   "metadata": {},
   "outputs": [
    {
     "data": {
      "image/png": "[encoded data removed]",
      "text/plain": [
       "<matplotlib.figure.Figure at 0xab1c31ec>"
      ]
     },
     "metadata": {},
     "output_type": "display_data"
    }
   ],
   "source": [
    "x = data['hits']\n",
    "y = data['home_runs']\n",
    "\n",
    "plt.scatter(x, y, alpha=0.5)\n",
    "plt.title('Home Runs vs Total Hits')\n",
    "plt.xlabel('Hits')\n",
    "plt.ylabel('Home runs')\n",
    "\n",
    "plt.show();"
   ]
  },
  {
   "cell_type": "markdown",
   "metadata": {},
   "source": [
    "> Generally speaking, it appears that the more plate appearances a player gets, the more home runs they have. Although the variance on this plot appears to be quite large, suggesting that at-bats is not an accurate measure of future home runs. The scatter plot seems to funnel outward as the number of at-bats increases, indicating that as a player gets more plate appearances, there is a wider spread for home runs."
   ]
  },
  {
   "cell_type": "code",
   "execution_count": 191,
   "metadata": {},
   "outputs": [
    {
     "data": {
      "image/png": "[encoded data removed]",
      "text/plain": [
       "<matplotlib.figure.Figure at 0xaaec04ac>"
      ]
     },
     "metadata": {},
     "output_type": "display_data"
    }
   ],
   "source": [
    "x = data['ibb']\n",
    "y = data['home_runs']\n",
    "\n",
    "plt.scatter(x, y, alpha=0.5)\n",
    "plt.title('Home Runs vs Intentional Walks')\n",
    "plt.xlabel('Intentional walks')\n",
    "plt.ylabel('Home runs')\n",
    "\n",
    "plt.show();"
   ]
  },
  {
   "cell_type": "markdown",
   "metadata": {},
   "source": [
    "> This is an interesting plot. I would say generally that the more intentional walks a player has (> 5), the more home runs they are likely to have. The reason I chose this plot is because pitchers sometimes intentionally walk players that they fear will hit a home run. This led me to believe that players who have a lot of intentional walks will have a higher number of home runs. This appears to be true, but most players are intentionally walked less than 5 times. Their home runs totals are also in the normal range. So players that are above the 95th percentile for home runs tend to be walked more."
   ]
  },
  {
   "cell_type": "markdown",
   "metadata": {},
   "source": [
    "## Conclusion\n",
    "This homework was a crash course in general Python, IPython, and NumPy. I threw in some Pandas and MatPlotLib out of necessity and ease of use. This will lead in well to the next chapters of *Python Data Science Handbook*: Pandas and MatPlotLib.  \n",
    "\n",
    "I am planning on doing at least 2 more homework assignments, plus the final project. They will resemble something like the following:\n",
    "- HW2: Pandas, MatPlotLib, and SciKitLearn\n",
    "- HW3: Python for Excel and other topics from [*Automate the Boring Stuff*](https://automatetheboringstuff.com/)\n",
    "\n",
    "I am debating breaking up HW2 into two sections. Let me know what you think."
   ]
  }
 ],
 "metadata": {
  "kernelspec": {
   "display_name": "Python 3",
   "language": "python",
   "name": "python3"
  },
  "language_info": {
   "codemirror_mode": {
    "name": "ipython",
    "version": 3
   },
   "file_extension": ".py",
   "mimetype": "text/x-python",
   "name": "python",
   "nbconvert_exporter": "python",
   "pygments_lexer": "ipython3",
   "version": "3.6.1"
  }
 },
 "nbformat": 4,
 "nbformat_minor": 2
}
